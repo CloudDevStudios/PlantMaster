{
 "cells": [
  {
   "cell_type": "code",
   "execution_count": null,
   "id": "9e545fe7-e7ec-4b16-89ae-6820bb534454",
   "metadata": {
    "scrolled": true
   },
   "outputs": [],
   "source": [
    "import os\n",
    "from langchain_community.chat_models import ChatOpenAI\n",
    "from langchain_community.embeddings import CohereEmbeddings\n",
    "from langchain_community.vectorstores import Pinecone\n",
    "from langchain_core.output_parsers import StrOutputParser\n",
    "from langchain_core.prompts import ChatPromptTemplate\n",
    "from langchain_core.runnables import RunnableParallel, RunnablePassthrough, RunnableLambda\n",
    "from pinecone import Pinecone as PineconeClient\n",
    "import requests"
   ]
  },
  {
   "cell_type": "code",
   "execution_count": 10,
   "id": "ea74ba28-668c-4bc0-b262-568298e13533",
   "metadata": {},
   "outputs": [],
   "source": [
    "# Keys\n",
    "PINECONE_API_KEY = os.environ[\"PINECONE_API_KEY\"]\n",
    "PINECONE_ENVIRONMENT = os.environ[\"PINECONE_ENVIRONMENT\"]\n",
    "PINECONE_INDEX_NAME = os.environ[\"PINECONE_INDEX_NAME\"]\n",
    "\n",
    "pinecone = PineconeClient(api_key=PINECONE_API_KEY,\n",
    "                         environment=PINECONE_ENVIRONMENT)\n",
    "\n",
    "embeddings = CohereEmbeddings(model=\"multilingual-22-12\")\n",
    "vectorstore = Pinecone.from_existing_index(index_name=PINECONE_INDEX_NAME,\n",
    "                                           embedding=embeddings)\n",
    "\n",
    "retriever = vectorstore.as_retriever()\n",
    "\n",
    "def fetch_wikipedia_page(id):\n",
    "    url = f\"https://en.wikipedia.org/w/api.php?action=query&prop=extracts&format=json&pageids={id}\"\n",
    "    response = requests.get(url)\n",
    "    data = response.json()\n",
    "    page_content = list(data['query']['pages'].values())[0]['extract']\n",
    "    return page_content\n",
    "\n",
    "def fetch_url(x):\n",
    "    urls = [doc.metadata['url'] for doc in x['context']]\n",
    "    ids = [url.split('=')[-1] for url in urls]\n",
    "    contents = [fetch_wikipedia_page(id)[:32000] for id in ids]    \n",
    "    return {\"context\": contents, \"question\": x[\"question\"]}\n",
    "\n",
    "\n",
    "# RAG prompt\n",
    "template = \"\"\"Answer the question based only on the following context:\n",
    "{context}\n",
    "Question: {question}\n",
    "\"\"\"\n",
    "prompt = ChatPromptTemplate.from_template(template)\n",
    "\n",
    "# RAG\n",
    "model = ChatOpenAI(temperature=0, model=\"gpt-4-1106-preview\")\n",
    "\n",
    "chain = (\n",
    "    RunnableParallel({\"context\": retriever, \"question\": RunnablePassthrough()})\n",
    "    | RunnableLambda(fetch_url)  # Add this line\n",
    "    | prompt\n",
    "    | model\n",
    "    | StrOutputParser()\n",
    ")"
   ]
  },
  {
   "cell_type": "code",
   "execution_count": 8,
   "id": "10d7eb82-c9ad-4ddd-a543-72b7fa40d009",
   "metadata": {},
   "outputs": [
    {
     "data": {
      "text/plain": [
       "'Film noir is a cinematic term used primarily to describe stylized Hollywood crime dramas, particularly those that emphasize cynical attitudes and motivations. The classic period of American film noir is generally regarded as the 1940s and 1950s. This era of film noir is associated with a low-key, black-and-white visual style that has roots in German Expressionist cinematography. Film noir often encompasses a range of plots and central figures, including private investigators, plainclothes police officers, aging boxers, hapless grifters, law-abiding citizens lured into a life of crime, femme fatales, or victims of circumstance. While originally associated with American productions, the term has been used to describe films from around the world and has inspired later works known as neo-noir.'"
      ]
     },
     "execution_count": 8,
     "metadata": {},
     "output_type": "execute_result"
    }
   ],
   "source": [
    "chain.invoke(\"what is film noir?\")"
   ]
  }
 ],
 "metadata": {
  "kernelspec": {
   "display_name": "Python 3 (ipykernel)",
   "language": "python",
   "name": "python3"
  },
  "language_info": {
   "codemirror_mode": {
    "name": "ipython",
    "version": 3
   },
   "file_extension": ".py",
   "mimetype": "text/x-python",
   "name": "python",
   "nbconvert_exporter": "python",
   "pygments_lexer": "ipython3",
   "version": "3.11.4"
  }
 },
 "nbformat": 4,
 "nbformat_minor": 5
}
